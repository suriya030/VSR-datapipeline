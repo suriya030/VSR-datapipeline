{
 "cells": [
  {
   "cell_type": "code",
   "execution_count": null,
   "id": "9f831067",
   "metadata": {},
   "outputs": [
    {
     "name": "stderr",
     "output_type": "stream",
     "text": [
      "c:\\Users\\Welcome\\anaconda3\\envs\\qube_cinemas\\lib\\site-packages\\tqdm\\auto.py:21: TqdmWarning: IProgress not found. Please update jupyter and ipywidgets. See https://ipywidgets.readthedocs.io/en/stable/user_install.html\n",
      "  from .autonotebook import tqdm as notebook_tqdm\n"
     ]
    },
    {
     "name": "stdout",
     "output_type": "stream",
     "text": [
      "================================================================================\n",
      "🚀 STARTING MXF VIDEO ANALYSIS PIPELINE\n",
      "================================================================================\n",
      "\n",
      "📖 STEP 1: Reading MXF file and converting frames\n",
      "🎬 Opening MXF video file...\n",
      "============================================================\n",
      "VIDEO INFORMATION\n",
      "============================================================\n",
      "File: Beast (2).mp4\n",
      "Format: mov,mp4,m4a,3gp,3g2,mj2\n",
      "Duration: 14.37 seconds\n",
      "Codec: h264\n",
      "Resolution: 1280x720\n",
      "Frame Rate: 30.0 fps\n",
      "Pixel Format: yuvj420p\n",
      "Bitrate: 918229 bps\n",
      "Total Frames: 431\n",
      "============================================================\n",
      "🔄 Converting frames to 720p...\n"
     ]
    },
    {
     "name": "stderr",
     "output_type": "stream",
     "text": [
      "Processing frames: 100%|          | 0/431 [00:00<?, ?frame/s]█▍        | 62/431 [00:00<00:00, 615.40frame/s]██▉       | 129/431 [00:00<00:00, 642.39frame/s]████▌     | 195/431 [00:00<00:00, 650.35frame/s]██████    | 261/431 [00:00<00:00, 640.26frame/s]███████▋  | 329/431 [00:00<00:00, 649.99frame/s]█████████▏| 395/431 [00:00<00:00, 651.42frame/s]██████████| 431/431 [00:00<00:00, 646.03frame/s]\n"
     ]
    },
    {
     "name": "stdout",
     "output_type": "stream",
     "text": [
      "✅ Successfully processed 431 frames and converted to 720p\n",
      "\n",
      "📖 STEP 2: Scene detection\n",
      "🎬 Starting scene detection...\n",
      "🔍 Analyzing video for scene changes...\n"
     ]
    },
    {
     "name": "stderr",
     "output_type": "stream",
     "text": [
      "  Detected: 2 | Progress: 100%|██████████| 431/431 [00:00<00:00, 766.24frames/s]\n"
     ]
    },
    {
     "name": "stdout",
     "output_type": "stream",
     "text": [
      "✅ Found 3 scenes\n",
      "  Scene 1: Frames 0-109 (110 frames)\n",
      "  Scene 2: Frames 109-274 (166 frames)\n",
      "  Scene 3: Frames 274-431 (158 frames)\n",
      "\n",
      "📖 STEP 3: Quality-based frame analysis per scene\n",
      "🔧 Initializing IQA models on device: cuda\n",
      "Loading pretrained model MUSIQ from C:\\Users\\Welcome\\.cache\\torch\\hub\\pyiqa\\musiq_koniq_ckpt-e95806b9.pth\n",
      "✅ MUSIQ and NIQE models loaded successfully\n",
      "🎬 Starting quality analysis per scene...\n",
      "   Thresholds: MUSIQ > 35.0, NIQE < 6.0\n",
      "   Target sequence length: 15 frames\n"
     ]
    },
    {
     "name": "stderr",
     "output_type": "stream",
     "text": [
      "Analyzing scenes:   0%|          | 0/3 [00:00<?, ?scene/s]"
     ]
    },
    {
     "name": "stdout",
     "output_type": "stream",
     "text": [
      "🔍 Processing Scene 1 (frames 0-109)\n",
      "✅ Scene 1: Found 15 consecutive high-quality frames\n"
     ]
    },
    {
     "name": "stderr",
     "output_type": "stream",
     "text": [
      "Analyzing scenes:  33%|███▎      | 1/3 [00:01<00:02,  1.18s/scene]"
     ]
    },
    {
     "name": "stdout",
     "output_type": "stream",
     "text": [
      "🔍 Processing Scene 2 (frames 109-274)\n",
      "✅ Scene 2: Found 15 consecutive high-quality frames\n"
     ]
    },
    {
     "name": "stderr",
     "output_type": "stream",
     "text": [
      "Analyzing scenes:  67%|██████▋   | 2/3 [00:01<00:00,  1.11scene/s]"
     ]
    },
    {
     "name": "stdout",
     "output_type": "stream",
     "text": [
      "🔍 Processing Scene 3 (frames 274-431)\n",
      "✅ Scene 3: Found 15 consecutive high-quality frames\n"
     ]
    },
    {
     "name": "stderr",
     "output_type": "stream",
     "text": [
      "Analyzing scenes: 100%|██████████| 3/3 [00:03<00:00,  1.30s/scene]██████████| 3/3 [00:03<00:00,  1.22s/scene]\n"
     ]
    },
    {
     "name": "stdout",
     "output_type": "stream",
     "text": [
      "\n",
      "📖 STEP 4: Saving analysis results\n",
      "🎬 Preparing analysis data for export...\n",
      "✅ Analysis data saved to: analysis_results\\Beast (2)_analysis.json\n",
      "\n",
      "================================================================================\n",
      "🎉 PIPELINE COMPLETED SUCCESSFULLY!\n",
      "📊 Results: Found quality sequences in 3/3 scenes\n",
      "================================================================================\n"
     ]
    }
   ],
   "source": [
    "import os\n",
    "from colorama import Fore, Style\n",
    "\n",
    "# Import all modules\n",
    "from video_reader import read_mxf_video\n",
    "from scene_detector import find_and_split_scenes\n",
    "from quality_analyzer import initialize_quality_metrics, find_sequence_per_scene\n",
    "from data_exporter import save_analysis_json\n",
    "from utils import print_header, print_step, print_success, get_base_filename\n",
    "from config import DEVICE\n",
    "\n",
    "def process_mxf_complete_pipeline(mxf_file_path, output_folder):\n",
    "    \"\"\"Complete MXF analysis pipeline: read video, detect scenes, analyze frame quality\"\"\"\n",
    "    \n",
    "    print_header(\"🚀 STARTING MXF VIDEO ANALYSIS PIPELINE\")\n",
    "    \n",
    "    # Step 1: Read and convert MXF video\n",
    "    print_step(1, \"Reading MXF file and converting frames\")\n",
    "    frames_list, video_info = read_mxf_video(mxf_file_path)\n",
    "    \n",
    "    # Step 2: Detect video scenes\n",
    "    print_step(2, \"Scene detection\")\n",
    "    scenes_info = find_and_split_scenes(mxf_file_path, video_info['frame_rate'])\n",
    "    \n",
    "    # Step 3: Initialize quality analysis models\n",
    "    print_step(3, \"Quality-based frame analysis per scene\")\n",
    "    musiq_metric, niqe_metric, device = initialize_quality_metrics(DEVICE)\n",
    "    \n",
    "    # Step 4: Analyze frame quality per scene\n",
    "    base_video_name = get_base_filename(mxf_file_path)\n",
    "    scene_results = find_sequence_per_scene(\n",
    "        frames_list, \n",
    "        scenes_info,\n",
    "        base_video_name,\n",
    "        musiq_metric, \n",
    "        niqe_metric, \n",
    "        device\n",
    "    )\n",
    "    \n",
    "    # Step 5: Save results\n",
    "    print_step(4, \"Saving analysis results\")\n",
    "    json_output_path = os.path.join(output_folder, f\"{base_video_name}_analysis.json\")\n",
    "    analysis_data = save_analysis_json(video_info, scenes_info, scene_results, json_output_path)\n",
    "    \n",
    "    # Final summary\n",
    "    sequences_found = sum(1 for sr in scene_results if sr['sequence_found'])\n",
    "    total_scenes = len(scenes_info)\n",
    "    \n",
    "    print(f\"\\n{Fore.GREEN}{'='*80}\")\n",
    "    print(f\"{Fore.GREEN}🎉 PIPELINE COMPLETED SUCCESSFULLY!\")\n",
    "    print(f\"{Fore.GREEN}📊 Results: Found quality sequences in {Fore.YELLOW}{sequences_found}/{total_scenes}{Fore.GREEN} scenes\")\n",
    "    print(f\"{Fore.GREEN}{'='*80}{Style.RESET_ALL}\")\n",
    "    \n",
    "    return analysis_data\n",
    "\n",
    "if __name__ == \"__main__\":\n",
    "    # Configuration\n",
    "    mxf_file = r\"movie\\Video_Anegan_CC_4K_Wrap-reel-1-jp2k.mxf\"\n",
    "    output_folder = r\"analysis_results\"\n",
    "    \n",
    "    # Run pipeline\n",
    "    analysis_data = process_mxf_complete_pipeline(mxf_file, output_folder)"
   ]
  }
 ],
 "metadata": {
  "kernelspec": {
   "display_name": "pytorch-gpu",
   "language": "python",
   "name": "python3"
  },
  "language_info": {
   "codemirror_mode": {
    "name": "ipython",
    "version": 3
   },
   "file_extension": ".py",
   "mimetype": "text/x-python",
   "name": "python",
   "nbconvert_exporter": "python",
   "pygments_lexer": "ipython3",
   "version": "3.9.23"
  }
 },
 "nbformat": 4,
 "nbformat_minor": 5
}
