{
 "cells": [
  {
   "cell_type": "code",
   "execution_count": 2,
   "id": "de2e0fbc",
   "metadata": {},
   "outputs": [
    {
     "name": "stdout",
     "output_type": "stream",
     "text": [
      "================================================================================\n",
      "🚀 STARTING MXF VIDEO ANALYSIS PIPELINE\n",
      "================================================================================\n",
      "\n",
      "📖 STEP 1: Reading MXF file and converting frames\n",
      "🎬 Opening MXF video file...\n",
      "============================================================\n",
      "VIDEO INFORMATION\n",
      "============================================================\n",
      "File: Beast.mkv\n",
      "Format: matroska,webm\n",
      "Duration: 218.89 seconds\n",
      "Codec: h264\n",
      "Resolution: 1920x1080\n",
      "Frame Rate: 25.0 fps\n",
      "Pixel Format: yuv420p\n",
      "Bitrate: 1166371 bps\n",
      "Total Frames: 5472\n",
      "============================================================\n",
      "🔄 Converting frames to 720p...\n"
     ]
    },
    {
     "name": "stderr",
     "output_type": "stream",
     "text": [
      "Processing frames: 100%|          | 0/5472 [00:00<?, ?frame/s]          | 38/5472 [00:00<00:14, 378.51frame/s]▏         | 83/5472 [00:00<00:12, 419.19frame/s]▏         | 129/5472 [00:00<00:12, 437.67frame/s]▎         | 173/5472 [00:00<00:12, 423.93frame/s]▍         | 220/5472 [00:00<00:11, 437.80frame/s]▍         | 266/5472 [00:00<00:11, 445.17frame/s]▌         | 311/5472 [00:00<00:11, 439.46frame/s]▋         | 355/5472 [00:00<00:11, 434.66frame/s]▋         | 399/5472 [00:00<00:11, 430.37frame/s]▊         | 446/5472 [00:01<00:11, 441.63frame/s]▉         | 491/5472 [00:01<00:11, 443.44frame/s]▉         | 539/5472 [00:01<00:10, 454.31frame/s]█         | 585/5472 [00:01<00:11, 437.89frame/s]█▏        | 629/5472 [00:01<00:11, 436.14frame/s]█▏        | 673/5472 [00:01<00:11, 433.25frame/s]█▎        | 717/5472 [00:01<00:11, 429.55frame/s]█▍        | 764/5472 [00:01<00:10, 439.43frame/s]█▍        | 808/5472 [00:01<00:10, 431.35frame/s]█▌        | 852/5472 [00:01<00:11, 419.77frame/s]█▋        | 898/5472 [00:02<00:10, 426.53frame/s]█▋        | 941/5472 [00:02<00:10, 419.64frame/s]█▊        | 984/5472 [00:02<00:10, 422.00frame/s]█▉        | 1027/5472 [00:02<00:10, 418.79frame/s]█▉        | 1069/5472 [00:02<00:10, 409.01frame/s]██        | 1110/5472 [00:02<00:10, 408.69frame/s]██        | 1152/5472 [00:02<00:10, 410.23frame/s]██▏       | 1194/5472 [00:02<00:10, 408.86frame/s]██▎       | 1235/5472 [00:02<00:10, 403.08frame/s]██▎       | 1276/5472 [00:03<00:11, 371.02frame/s]██▍       | 1314/5472 [00:03<00:12, 343.09frame/s]██▍       | 1349/5472 [00:03<00:12, 342.48frame/s]██▌       | 1387/5472 [00:03<00:11, 350.35frame/s]██▌       | 1426/5472 [00:03<00:11, 359.93frame/s]██▋       | 1464/5472 [00:03<00:11, 362.96frame/s]██▋       | 1503/5472 [00:03<00:10, 369.66frame/s]██▊       | 1543/5472 [00:03<00:10, 375.73frame/s]██▉       | 1581/5472 [00:03<00:11, 334.05frame/s]██▉       | 1616/5472 [00:04<00:12, 316.39frame/s]███       | 1649/5472 [00:04<00:12, 318.13frame/s]███       | 1688/5472 [00:04<00:11, 337.34frame/s]███▏      | 1728/5472 [00:04<00:10, 354.90frame/s]███▏      | 1771/5472 [00:04<00:09, 373.49frame/s]███▎      | 1812/5472 [00:04<00:09, 381.06frame/s]███▍      | 1851/5472 [00:04<00:09, 374.40frame/s]███▍      | 1889/5472 [00:04<00:09, 372.47frame/s]███▌      | 1927/5472 [00:04<00:09, 362.26frame/s]███▌      | 1966/5472 [00:04<00:09, 367.82frame/s]███▋      | 2011/5472 [00:05<00:08, 389.71frame/s]███▊      | 2060/5472 [00:05<00:08, 418.41frame/s]███▊      | 2103/5472 [00:05<00:09, 363.19frame/s]███▉      | 2141/5472 [00:05<00:09, 336.82frame/s]███▉      | 2176/5472 [00:05<00:10, 326.35frame/s]████      | 2210/5472 [00:05<00:10, 315.39frame/s]████      | 2243/5472 [00:05<00:10, 303.78frame/s]████▏     | 2274/5472 [00:05<00:10, 300.27frame/s]████▏     | 2305/5472 [00:06<00:10, 302.73frame/s]████▎     | 2348/5472 [00:06<00:09, 337.28frame/s]████▍     | 2395/5472 [00:06<00:08, 374.83frame/s]████▍     | 2440/5472 [00:06<00:07, 394.96frame/s]████▌     | 2491/5472 [00:06<00:06, 427.80frame/s]████▋     | 2535/5472 [00:06<00:06, 426.26frame/s]████▋     | 2578/5472 [00:06<00:06, 420.57frame/s]████▊     | 2621/5472 [00:06<00:06, 420.23frame/s]████▊     | 2667/5472 [00:06<00:06, 429.96frame/s]████▉     | 2711/5472 [00:06<00:06, 426.01frame/s]█████     | 2754/5472 [00:07<00:06, 427.08frame/s]█████     | 2797/5472 [00:07<00:06, 415.17frame/s]█████▏    | 2841/5472 [00:07<00:06, 421.75frame/s]█████▎    | 2885/5472 [00:07<00:06, 424.56frame/s]█████▎    | 2930/5472 [00:07<00:05, 431.66frame/s]█████▍    | 2974/5472 [00:07<00:05, 432.65frame/s]█████▌    | 3018/5472 [00:07<00:05, 434.15frame/s]█████▌    | 3062/5472 [00:07<00:05, 427.61frame/s]█████▋    | 3105/5472 [00:07<00:05, 425.73frame/s]█████▊    | 3148/5472 [00:07<00:05, 419.38frame/s]█████▊    | 3190/5472 [00:08<00:05, 415.34frame/s]█████▉    | 3239/5472 [00:08<00:05, 434.69frame/s]█████▉    | 3283/5472 [00:08<00:05, 425.26frame/s]██████    | 3326/5472 [00:08<00:05, 392.31frame/s]██████▏   | 3366/5472 [00:08<00:05, 375.63frame/s]██████▏   | 3404/5472 [00:08<00:05, 375.73frame/s]██████▎   | 3446/5472 [00:08<00:05, 387.02frame/s]██████▍   | 3491/5472 [00:08<00:04, 404.90frame/s]██████▍   | 3532/5472 [00:08<00:04, 396.61frame/s]██████▌   | 3572/5472 [00:09<00:04, 382.49frame/s]██████▌   | 3611/5472 [00:09<00:05, 364.94frame/s]██████▋   | 3648/5472 [00:09<00:04, 365.23frame/s]██████▋   | 3693/5472 [00:09<00:04, 389.02frame/s]██████▊   | 3733/5472 [00:09<00:04, 372.94frame/s]██████▉   | 3775/5472 [00:09<00:04, 383.44frame/s]██████▉   | 3814/5472 [00:09<00:04, 355.92frame/s]███████   | 3851/5472 [00:09<00:04, 340.65frame/s]███████   | 3896/5472 [00:09<00:04, 368.10frame/s]███████▏  | 3938/5472 [00:10<00:04, 380.72frame/s]███████▎  | 3981/5472 [00:10<00:03, 392.97frame/s]███████▎  | 4023/5472 [00:10<00:03, 398.98frame/s]███████▍  | 4064/5472 [00:10<00:03, 390.26frame/s]███████▌  | 4104/5472 [00:10<00:03, 383.37frame/s]███████▌  | 4143/5472 [00:10<00:03, 381.42frame/s]███████▋  | 4187/5472 [00:10<00:03, 397.68frame/s]███████▋  | 4232/5472 [00:10<00:03, 411.47frame/s]███████▊  | 4276/5472 [00:10<00:02, 419.66frame/s]███████▉  | 4319/5472 [00:11<00:02, 399.14frame/s]███████▉  | 4360/5472 [00:11<00:02, 388.40frame/s]████████  | 4405/5472 [00:11<00:02, 404.04frame/s]████████▏ | 4446/5472 [00:11<00:02, 398.31frame/s]████████▏ | 4487/5472 [00:11<00:02, 386.69frame/s]████████▎ | 4526/5472 [00:11<00:02, 366.39frame/s]████████▎ | 4564/5472 [00:11<00:02, 368.60frame/s]████████▍ | 4602/5472 [00:11<00:02, 371.28frame/s]████████▍ | 4645/5472 [00:11<00:02, 385.30frame/s]████████▌ | 4691/5472 [00:11<00:01, 406.63frame/s]████████▋ | 4737/5472 [00:12<00:01, 421.54frame/s]████████▋ | 4780/5472 [00:12<00:01, 393.79frame/s]████████▊ | 4820/5472 [00:12<00:01, 382.85frame/s]████████▉ | 4859/5472 [00:12<00:01, 372.30frame/s]████████▉ | 4900/5472 [00:12<00:01, 381.10frame/s]█████████ | 4939/5472 [00:12<00:01, 356.65frame/s]█████████ | 4976/5472 [00:12<00:01, 331.18frame/s]█████████▏| 5010/5472 [00:12<00:01, 318.48frame/s]█████████▏| 5043/5472 [00:13<00:01, 315.85frame/s]█████████▎| 5075/5472 [00:13<00:01, 307.78frame/s]█████████▎| 5106/5472 [00:13<00:01, 305.04frame/s]█████████▍| 5137/5472 [00:13<00:01, 301.34frame/s]█████████▍| 5168/5472 [00:13<00:01, 293.90frame/s]█████████▌| 5199/5472 [00:13<00:00, 295.99frame/s]█████████▌| 5230/5472 [00:13<00:00, 298.78frame/s]█████████▌| 5260/5472 [00:13<00:00, 299.01frame/s]█████████▋| 5292/5472 [00:13<00:00, 302.51frame/s]█████████▋| 5327/5472 [00:13<00:00, 315.89frame/s]█████████▊| 5368/5472 [00:14<00:00, 343.20frame/s]█████████▉| 5415/5472 [00:14<00:00, 380.12frame/s]█████████▉| 5462/5472 [00:14<00:00, 404.93frame/s]█████████▉| 5471/5472 [00:14<00:00, 383.31frame/s]\n"
     ]
    },
    {
     "name": "stdout",
     "output_type": "stream",
     "text": [
      "✅ Successfully processed 5471 frames and converted to 720p\n",
      "\n",
      "🎬 STEP 2: Scene detection\n",
      "🎯 Starting scene detection...\n",
      "🔍 Analyzing video for scene changes...\n"
     ]
    },
    {
     "name": "stderr",
     "output_type": "stream",
     "text": [
      "  Detected: 64 | Progress: 100%|█████████▉| 5471/5472 [00:14<00:00, 370.39frames/s]\n"
     ]
    },
    {
     "name": "stdout",
     "output_type": "stream",
     "text": [
      "📊 Found 65 scenes\n",
      "  Scene 1: Frames 0-135 (136 frames)\n",
      "  Scene 2: Frames 135-343 (209 frames)\n",
      "  Scene 3: Frames 343-386 (44 frames)\n",
      "  Scene 4: Frames 386-541 (156 frames)\n",
      "  Scene 5: Frames 541-679 (139 frames)\n",
      "  Scene 6: Frames 679-927 (249 frames)\n",
      "  Scene 7: Frames 927-1100 (174 frames)\n",
      "  Scene 8: Frames 1100-1194 (95 frames)\n",
      "  Scene 9: Frames 1194-1322 (129 frames)\n",
      "  Scene 10: Frames 1322-1386 (65 frames)\n",
      "  Scene 11: Frames 1386-1505 (120 frames)\n",
      "  Scene 12: Frames 1505-1547 (43 frames)\n",
      "  Scene 13: Frames 1547-1636 (90 frames)\n",
      "  Scene 14: Frames 1636-1850 (215 frames)\n",
      "  Scene 15: Frames 1850-1910 (61 frames)\n",
      "  Scene 16: Frames 1910-1942 (33 frames)\n",
      "  Scene 17: Frames 1942-1979 (38 frames)\n",
      "  Scene 18: Frames 1979-2062 (84 frames)\n",
      "  Scene 19: Frames 2062-2123 (62 frames)\n",
      "  Scene 20: Frames 2123-2179 (57 frames)\n",
      "  Scene 21: Frames 2179-2293 (115 frames)\n",
      "  Scene 22: Frames 2293-2492 (200 frames)\n",
      "  Scene 23: Frames 2492-2694 (203 frames)\n",
      "  Scene 24: Frames 2694-2749 (56 frames)\n",
      "  Scene 25: Frames 2749-2782 (34 frames)\n",
      "  Scene 26: Frames 2782-3013 (232 frames)\n",
      "  Scene 27: Frames 3013-3069 (57 frames)\n",
      "  Scene 28: Frames 3069-3178 (110 frames)\n",
      "  Scene 29: Frames 3178-3257 (80 frames)\n",
      "  Scene 30: Frames 3257-3395 (139 frames)\n",
      "  Scene 31: Frames 3395-3439 (45 frames)\n",
      "  Scene 32: Frames 3439-3474 (36 frames)\n",
      "  Scene 33: Frames 3474-3552 (79 frames)\n",
      "  Scene 34: Frames 3552-3596 (45 frames)\n",
      "  Scene 35: Frames 3596-3640 (45 frames)\n",
      "  Scene 36: Frames 3640-3672 (33 frames)\n",
      "  Scene 37: Frames 3672-3692 (21 frames)\n",
      "  Scene 38: Frames 3692-3706 (15 frames)\n",
      "  Scene 39: Frames 3706-3786 (81 frames)\n",
      "  Scene 40: Frames 3786-3817 (32 frames)\n",
      "  Scene 41: Frames 3817-3859 (43 frames)\n",
      "  Scene 42: Frames 3859-3975 (117 frames)\n",
      "  Scene 43: Frames 3975-4119 (145 frames)\n",
      "  Scene 44: Frames 4119-4153 (35 frames)\n",
      "  Scene 45: Frames 4153-4246 (94 frames)\n",
      "  Scene 46: Frames 4246-4357 (112 frames)\n",
      "  Scene 47: Frames 4357-4404 (48 frames)\n",
      "  Scene 48: Frames 4404-4495 (92 frames)\n",
      "  Scene 49: Frames 4495-4565 (71 frames)\n",
      "  Scene 50: Frames 4565-4631 (67 frames)\n",
      "  Scene 51: Frames 4631-4734 (104 frames)\n",
      "  Scene 52: Frames 4734-4846 (113 frames)\n",
      "  Scene 53: Frames 4846-4906 (61 frames)\n",
      "  Scene 54: Frames 4906-4947 (42 frames)\n",
      "  Scene 55: Frames 4947-5000 (54 frames)\n",
      "  Scene 56: Frames 5000-5034 (35 frames)\n",
      "  Scene 57: Frames 5034-5217 (184 frames)\n",
      "  Scene 58: Frames 5217-5230 (14 frames)\n",
      "  Scene 59: Frames 5230-5243 (14 frames)\n",
      "  Scene 60: Frames 5243-5275 (33 frames)\n",
      "  Scene 61: Frames 5275-5290 (16 frames)\n",
      "  Scene 62: Frames 5290-5317 (28 frames)\n",
      "  Scene 63: Frames 5317-5334 (18 frames)\n",
      "  Scene 64: Frames 5334-5347 (14 frames)\n",
      "  Scene 65: Frames 5347-5471 (125 frames)\n",
      "\n",
      "🤖 STEP 3: Quality-based frame analysis per scene\n",
      "🔧 Initializing IQA models on device: cuda\n",
      "Loading pretrained model MUSIQ from C:\\Users\\Welcome\\.cache\\torch\\hub\\pyiqa\\musiq_koniq_ckpt-e95806b9.pth\n",
      "✅ MUSIQ and NIQE models loaded successfully\n",
      "🎨 Starting quality analysis per scene...\n",
      "   Thresholds: MUSIQ > 35.0, NIQE < 6.0\n",
      "   Target sequence length: 15 frames\n"
     ]
    },
    {
     "name": "stderr",
     "output_type": "stream",
     "text": [
      "Analyzing scenes:   0%|          | 0/65 [00:00<?, ?scene/s]"
     ]
    },
    {
     "name": "stdout",
     "output_type": "stream",
     "text": [
      "🔍 Processing Scene 1 (frames 0-135)\n",
      "✅ Scene 1: Found 15 consecutive high-quality frames\n"
     ]
    },
    {
     "name": "stderr",
     "output_type": "stream",
     "text": [
      "Analyzing scenes:   2%|▏         | 1/65 [00:01<01:15,  1.17s/scene]"
     ]
    },
    {
     "name": "stdout",
     "output_type": "stream",
     "text": [
      "🔍 Processing Scene 2 (frames 135-343)\n",
      "✅ Scene 2: Found 15 consecutive high-quality frames\n"
     ]
    },
    {
     "name": "stderr",
     "output_type": "stream",
     "text": [
      "Analyzing scenes:   3%|▎         | 2/65 [00:01<00:55,  1.14scene/s]"
     ]
    },
    {
     "name": "stdout",
     "output_type": "stream",
     "text": [
      "🔍 Processing Scene 3 (frames 343-386)\n",
      "✅ Scene 3: Found 15 consecutive high-quality frames\n"
     ]
    },
    {
     "name": "stderr",
     "output_type": "stream",
     "text": [
      "Analyzing scenes:   5%|▍         | 3/65 [00:02<00:49,  1.25scene/s]"
     ]
    },
    {
     "name": "stdout",
     "output_type": "stream",
     "text": [
      "🔍 Processing Scene 4 (frames 386-541)\n",
      "✅ Scene 4: Found 15 consecutive high-quality frames\n"
     ]
    },
    {
     "name": "stderr",
     "output_type": "stream",
     "text": [
      "Analyzing scenes:   6%|▌         | 4/65 [00:03<00:46,  1.32scene/s]"
     ]
    },
    {
     "name": "stdout",
     "output_type": "stream",
     "text": [
      "🔍 Processing Scene 5 (frames 541-679)\n",
      "✅ Scene 5: Found 15 consecutive high-quality frames\n"
     ]
    },
    {
     "name": "stderr",
     "output_type": "stream",
     "text": [
      "Analyzing scenes:   8%|▊         | 5/65 [00:04<00:55,  1.08scene/s]"
     ]
    },
    {
     "name": "stdout",
     "output_type": "stream",
     "text": [
      "🔍 Processing Scene 6 (frames 679-927)\n",
      "✅ Scene 6: Found 15 consecutive high-quality frames\n"
     ]
    },
    {
     "name": "stderr",
     "output_type": "stream",
     "text": [
      "Analyzing scenes:   9%|▉         | 6/65 [00:06<01:08,  1.17s/scene]"
     ]
    },
    {
     "name": "stdout",
     "output_type": "stream",
     "text": [
      "🔍 Processing Scene 7 (frames 927-1100)\n",
      "✅ Scene 7: Found 15 consecutive high-quality frames\n"
     ]
    },
    {
     "name": "stderr",
     "output_type": "stream",
     "text": [
      "Analyzing scenes:  11%|█         | 7/65 [00:06<00:59,  1.03s/scene]"
     ]
    },
    {
     "name": "stdout",
     "output_type": "stream",
     "text": [
      "🔍 Processing Scene 8 (frames 1100-1194)\n",
      "✅ Scene 8: Found 15 consecutive high-quality frames\n"
     ]
    },
    {
     "name": "stderr",
     "output_type": "stream",
     "text": [
      "Analyzing scenes:  12%|█▏        | 8/65 [00:07<00:52,  1.09scene/s]"
     ]
    },
    {
     "name": "stdout",
     "output_type": "stream",
     "text": [
      "🔍 Processing Scene 9 (frames 1194-1322)\n",
      "✅ Scene 9: Found 15 consecutive high-quality frames\n"
     ]
    },
    {
     "name": "stderr",
     "output_type": "stream",
     "text": [
      "Analyzing scenes:  14%|█▍        | 9/65 [00:08<00:47,  1.17scene/s]"
     ]
    },
    {
     "name": "stdout",
     "output_type": "stream",
     "text": [
      "🔍 Processing Scene 10 (frames 1322-1386)\n",
      "✅ Scene 10: Found 15 consecutive high-quality frames\n"
     ]
    },
    {
     "name": "stderr",
     "output_type": "stream",
     "text": [
      "Analyzing scenes:  15%|█▌        | 10/65 [00:08<00:43,  1.25scene/s]"
     ]
    },
    {
     "name": "stdout",
     "output_type": "stream",
     "text": [
      "🔍 Processing Scene 11 (frames 1386-1505)\n",
      "✅ Scene 11: Found 15 consecutive high-quality frames\n"
     ]
    },
    {
     "name": "stderr",
     "output_type": "stream",
     "text": [
      "Analyzing scenes:  17%|█▋        | 11/65 [00:09<00:41,  1.31scene/s]"
     ]
    },
    {
     "name": "stdout",
     "output_type": "stream",
     "text": [
      "🔍 Processing Scene 12 (frames 1505-1547)\n",
      "⚠️  Scene 12: Only found 0 quality frames\n"
     ]
    },
    {
     "name": "stderr",
     "output_type": "stream",
     "text": [
      "Analyzing scenes:  18%|█▊        | 12/65 [00:11<00:59,  1.13s/scene]"
     ]
    },
    {
     "name": "stdout",
     "output_type": "stream",
     "text": [
      "🔍 Processing Scene 13 (frames 1547-1636)\n",
      "✅ Scene 13: Found 15 consecutive high-quality frames\n"
     ]
    },
    {
     "name": "stderr",
     "output_type": "stream",
     "text": [
      "Analyzing scenes:  20%|██        | 13/65 [00:12<00:52,  1.01s/scene]"
     ]
    },
    {
     "name": "stdout",
     "output_type": "stream",
     "text": [
      "🔍 Processing Scene 14 (frames 1636-1850)\n",
      "✅ Scene 14: Found 15 consecutive high-quality frames\n"
     ]
    },
    {
     "name": "stderr",
     "output_type": "stream",
     "text": [
      "Analyzing scenes:  22%|██▏       | 14/65 [00:12<00:46,  1.10scene/s]"
     ]
    },
    {
     "name": "stdout",
     "output_type": "stream",
     "text": [
      "🔍 Processing Scene 15 (frames 1850-1910)\n",
      "✅ Scene 15: Found 15 consecutive high-quality frames\n"
     ]
    },
    {
     "name": "stderr",
     "output_type": "stream",
     "text": [
      "Analyzing scenes:  23%|██▎       | 15/65 [00:13<00:41,  1.19scene/s]"
     ]
    },
    {
     "name": "stdout",
     "output_type": "stream",
     "text": [
      "🔍 Processing Scene 16 (frames 1910-1942)\n",
      "✅ Scene 16: Found 15 consecutive high-quality frames\n"
     ]
    },
    {
     "name": "stderr",
     "output_type": "stream",
     "text": [
      "Analyzing scenes:  25%|██▍       | 16/65 [00:14<00:39,  1.25scene/s]"
     ]
    },
    {
     "name": "stdout",
     "output_type": "stream",
     "text": [
      "🔍 Processing Scene 17 (frames 1942-1979)\n",
      "✅ Scene 17: Found 15 consecutive high-quality frames\n"
     ]
    },
    {
     "name": "stderr",
     "output_type": "stream",
     "text": [
      "Analyzing scenes:  26%|██▌       | 17/65 [00:15<00:36,  1.31scene/s]"
     ]
    },
    {
     "name": "stdout",
     "output_type": "stream",
     "text": [
      "🔍 Processing Scene 18 (frames 1979-2062)\n",
      "✅ Scene 18: Found 15 consecutive high-quality frames\n"
     ]
    },
    {
     "name": "stderr",
     "output_type": "stream",
     "text": [
      "Analyzing scenes:  28%|██▊       | 18/65 [00:15<00:34,  1.36scene/s]"
     ]
    },
    {
     "name": "stdout",
     "output_type": "stream",
     "text": [
      "🔍 Processing Scene 19 (frames 2062-2123)\n",
      "✅ Scene 19: Found 15 consecutive high-quality frames\n"
     ]
    },
    {
     "name": "stderr",
     "output_type": "stream",
     "text": [
      "Analyzing scenes:  29%|██▉       | 19/65 [00:16<00:33,  1.39scene/s]"
     ]
    },
    {
     "name": "stdout",
     "output_type": "stream",
     "text": [
      "🔍 Processing Scene 20 (frames 2123-2179)\n",
      "✅ Scene 20: Found 15 consecutive high-quality frames\n"
     ]
    },
    {
     "name": "stderr",
     "output_type": "stream",
     "text": [
      "Analyzing scenes:  31%|███       | 20/65 [00:17<00:32,  1.40scene/s]"
     ]
    },
    {
     "name": "stdout",
     "output_type": "stream",
     "text": [
      "🔍 Processing Scene 21 (frames 2179-2293)\n",
      "✅ Scene 21: Found 15 consecutive high-quality frames\n"
     ]
    },
    {
     "name": "stderr",
     "output_type": "stream",
     "text": [
      "Analyzing scenes:  32%|███▏      | 21/65 [00:17<00:30,  1.43scene/s]"
     ]
    },
    {
     "name": "stdout",
     "output_type": "stream",
     "text": [
      "🔍 Processing Scene 22 (frames 2293-2492)\n",
      "✅ Scene 22: Found 15 consecutive high-quality frames\n"
     ]
    },
    {
     "name": "stderr",
     "output_type": "stream",
     "text": [
      "Analyzing scenes:  34%|███▍      | 22/65 [00:18<00:29,  1.44scene/s]"
     ]
    },
    {
     "name": "stdout",
     "output_type": "stream",
     "text": [
      "🔍 Processing Scene 23 (frames 2492-2694)\n",
      "✅ Scene 23: Found 15 consecutive high-quality frames\n"
     ]
    },
    {
     "name": "stderr",
     "output_type": "stream",
     "text": [
      "Analyzing scenes:  35%|███▌      | 23/65 [00:19<00:29,  1.44scene/s]"
     ]
    },
    {
     "name": "stdout",
     "output_type": "stream",
     "text": [
      "🔍 Processing Scene 24 (frames 2694-2749)\n",
      "✅ Scene 24: Found 15 consecutive high-quality frames\n"
     ]
    },
    {
     "name": "stderr",
     "output_type": "stream",
     "text": [
      "Analyzing scenes:  37%|███▋      | 24/65 [00:19<00:28,  1.45scene/s]"
     ]
    },
    {
     "name": "stdout",
     "output_type": "stream",
     "text": [
      "🔍 Processing Scene 25 (frames 2749-2782)\n",
      "⚠️  Scene 25: Only found 0 quality frames\n"
     ]
    },
    {
     "name": "stderr",
     "output_type": "stream",
     "text": [
      "Analyzing scenes:  38%|███▊      | 25/65 [00:21<00:38,  1.05scene/s]"
     ]
    },
    {
     "name": "stdout",
     "output_type": "stream",
     "text": [
      "🔍 Processing Scene 26 (frames 2782-3013)\n",
      "⚠️  Scene 26: Only found 0 quality frames\n"
     ]
    },
    {
     "name": "stderr",
     "output_type": "stream",
     "text": [
      "Analyzing scenes:  40%|████      | 26/65 [00:31<02:27,  3.79s/scene]"
     ]
    },
    {
     "name": "stdout",
     "output_type": "stream",
     "text": [
      "🔍 Processing Scene 27 (frames 3013-3069)\n",
      "⚠️  Scene 27: Only found 0 quality frames\n"
     ]
    },
    {
     "name": "stderr",
     "output_type": "stream",
     "text": [
      "Analyzing scenes:  42%|████▏     | 27/65 [00:34<02:09,  3.41s/scene]"
     ]
    },
    {
     "name": "stdout",
     "output_type": "stream",
     "text": [
      "🔍 Processing Scene 28 (frames 3069-3178)\n",
      "⚠️  Scene 28: Only found 0 quality frames\n"
     ]
    },
    {
     "name": "stderr",
     "output_type": "stream",
     "text": [
      "Analyzing scenes:  43%|████▎     | 28/65 [00:39<02:22,  3.84s/scene]"
     ]
    },
    {
     "name": "stdout",
     "output_type": "stream",
     "text": [
      "🔍 Processing Scene 29 (frames 3178-3257)\n",
      "✅ Scene 29: Found 15 consecutive high-quality frames\n"
     ]
    },
    {
     "name": "stderr",
     "output_type": "stream",
     "text": [
      "Analyzing scenes:  45%|████▍     | 29/65 [00:39<01:44,  2.91s/scene]"
     ]
    },
    {
     "name": "stdout",
     "output_type": "stream",
     "text": [
      "🔍 Processing Scene 30 (frames 3257-3395)\n",
      "⚠️  Scene 30: Only found 0 quality frames\n"
     ]
    },
    {
     "name": "stderr",
     "output_type": "stream",
     "text": [
      "Analyzing scenes:  46%|████▌     | 30/65 [00:46<02:17,  3.92s/scene]"
     ]
    },
    {
     "name": "stdout",
     "output_type": "stream",
     "text": [
      "🔍 Processing Scene 31 (frames 3395-3439)\n",
      "⚠️  Scene 31: Only found 0 quality frames\n"
     ]
    },
    {
     "name": "stderr",
     "output_type": "stream",
     "text": [
      "Analyzing scenes:  48%|████▊     | 31/65 [00:48<01:54,  3.36s/scene]"
     ]
    },
    {
     "name": "stdout",
     "output_type": "stream",
     "text": [
      "🔍 Processing Scene 32 (frames 3439-3474)\n",
      "⚠️  Scene 32: Only found 0 quality frames\n"
     ]
    },
    {
     "name": "stderr",
     "output_type": "stream",
     "text": [
      "Analyzing scenes:  49%|████▉     | 32/65 [00:49<01:33,  2.84s/scene]"
     ]
    },
    {
     "name": "stdout",
     "output_type": "stream",
     "text": [
      "🔍 Processing Scene 33 (frames 3474-3552)\n",
      "⚠️  Scene 33: Only found 0 quality frames\n"
     ]
    },
    {
     "name": "stderr",
     "output_type": "stream",
     "text": [
      "Analyzing scenes:  51%|█████     | 33/65 [00:53<01:37,  3.05s/scene]"
     ]
    },
    {
     "name": "stdout",
     "output_type": "stream",
     "text": [
      "🔍 Processing Scene 34 (frames 3552-3596)\n",
      "⚠️  Scene 34: Only found 0 quality frames\n"
     ]
    },
    {
     "name": "stderr",
     "output_type": "stream",
     "text": [
      "Analyzing scenes:  52%|█████▏    | 34/65 [00:55<01:25,  2.76s/scene]"
     ]
    },
    {
     "name": "stdout",
     "output_type": "stream",
     "text": [
      "🔍 Processing Scene 35 (frames 3596-3640)\n",
      "✅ Scene 35: Found 15 consecutive high-quality frames\n"
     ]
    },
    {
     "name": "stderr",
     "output_type": "stream",
     "text": [
      "Analyzing scenes:  54%|█████▍    | 35/65 [00:56<01:09,  2.31s/scene]"
     ]
    },
    {
     "name": "stdout",
     "output_type": "stream",
     "text": [
      "🔍 Processing Scene 36 (frames 3640-3672)\n",
      "✅ Scene 36: Found 15 consecutive high-quality frames\n"
     ]
    },
    {
     "name": "stderr",
     "output_type": "stream",
     "text": [
      "Analyzing scenes:  55%|█████▌    | 36/65 [00:57<00:52,  1.82s/scene]"
     ]
    },
    {
     "name": "stdout",
     "output_type": "stream",
     "text": [
      "🔍 Processing Scene 37 (frames 3672-3692)\n",
      "⚠️  Scene 37: Only found 0 quality frames\n"
     ]
    },
    {
     "name": "stderr",
     "output_type": "stream",
     "text": [
      "Analyzing scenes:  57%|█████▋    | 37/65 [00:58<00:44,  1.58s/scene]"
     ]
    },
    {
     "name": "stdout",
     "output_type": "stream",
     "text": [
      "🔍 Processing Scene 38 (frames 3692-3706)\n",
      "⚠️  Scene 38: Only found 0 quality frames\n"
     ]
    },
    {
     "name": "stderr",
     "output_type": "stream",
     "text": [
      "Analyzing scenes:  58%|█████▊    | 38/65 [00:59<00:35,  1.33s/scene]"
     ]
    },
    {
     "name": "stdout",
     "output_type": "stream",
     "text": [
      "🔍 Processing Scene 39 (frames 3706-3786)\n",
      "⚠️  Scene 39: Only found 0 quality frames\n"
     ]
    },
    {
     "name": "stderr",
     "output_type": "stream",
     "text": [
      "Analyzing scenes:  60%|██████    | 39/65 [01:02<00:53,  2.05s/scene]"
     ]
    },
    {
     "name": "stdout",
     "output_type": "stream",
     "text": [
      "🔍 Processing Scene 40 (frames 3786-3817)\n",
      "✅ Scene 40: Found 15 consecutive high-quality frames\n"
     ]
    },
    {
     "name": "stderr",
     "output_type": "stream",
     "text": [
      "Analyzing scenes:  62%|██████▏   | 40/65 [01:03<00:41,  1.65s/scene]"
     ]
    },
    {
     "name": "stdout",
     "output_type": "stream",
     "text": [
      "🔍 Processing Scene 41 (frames 3817-3859)\n",
      "✅ Scene 41: Found 15 consecutive high-quality frames\n"
     ]
    },
    {
     "name": "stderr",
     "output_type": "stream",
     "text": [
      "Analyzing scenes:  63%|██████▎   | 41/65 [01:05<00:38,  1.62s/scene]"
     ]
    },
    {
     "name": "stdout",
     "output_type": "stream",
     "text": [
      "🔍 Processing Scene 42 (frames 3859-3975)\n",
      "✅ Scene 42: Found 15 consecutive high-quality frames\n"
     ]
    },
    {
     "name": "stderr",
     "output_type": "stream",
     "text": [
      "Analyzing scenes:  65%|██████▍   | 42/65 [01:05<00:30,  1.34s/scene]"
     ]
    },
    {
     "name": "stdout",
     "output_type": "stream",
     "text": [
      "🔍 Processing Scene 43 (frames 3975-4119)\n",
      "✅ Scene 43: Found 15 consecutive high-quality frames\n"
     ]
    },
    {
     "name": "stderr",
     "output_type": "stream",
     "text": [
      "Analyzing scenes:  66%|██████▌   | 43/65 [01:06<00:25,  1.14s/scene]"
     ]
    },
    {
     "name": "stdout",
     "output_type": "stream",
     "text": [
      "🔍 Processing Scene 44 (frames 4119-4153)\n",
      "⚠️  Scene 44: Only found 0 quality frames\n"
     ]
    },
    {
     "name": "stderr",
     "output_type": "stream",
     "text": [
      "Analyzing scenes:  68%|██████▊   | 44/65 [01:08<00:27,  1.29s/scene]"
     ]
    },
    {
     "name": "stdout",
     "output_type": "stream",
     "text": [
      "🔍 Processing Scene 45 (frames 4153-4246)\n",
      "⚠️  Scene 45: Only found 0 quality frames\n"
     ]
    },
    {
     "name": "stderr",
     "output_type": "stream",
     "text": [
      "Analyzing scenes:  69%|██████▉   | 45/65 [01:12<00:43,  2.19s/scene]"
     ]
    },
    {
     "name": "stdout",
     "output_type": "stream",
     "text": [
      "🔍 Processing Scene 46 (frames 4246-4357)\n",
      "✅ Scene 46: Found 15 consecutive high-quality frames\n"
     ]
    },
    {
     "name": "stderr",
     "output_type": "stream",
     "text": [
      "Analyzing scenes:  71%|███████   | 46/65 [01:13<00:33,  1.75s/scene]"
     ]
    },
    {
     "name": "stdout",
     "output_type": "stream",
     "text": [
      "🔍 Processing Scene 47 (frames 4357-4404)\n",
      "⚠️  Scene 47: Only found 0 quality frames\n"
     ]
    },
    {
     "name": "stderr",
     "output_type": "stream",
     "text": [
      "Analyzing scenes:  72%|███████▏  | 47/65 [01:15<00:33,  1.89s/scene]"
     ]
    },
    {
     "name": "stdout",
     "output_type": "stream",
     "text": [
      "🔍 Processing Scene 48 (frames 4404-4495)\n",
      "✅ Scene 48: Found 15 consecutive high-quality frames\n"
     ]
    },
    {
     "name": "stderr",
     "output_type": "stream",
     "text": [
      "Analyzing scenes:  74%|███████▍  | 48/65 [01:16<00:26,  1.54s/scene]"
     ]
    },
    {
     "name": "stdout",
     "output_type": "stream",
     "text": [
      "🔍 Processing Scene 49 (frames 4495-4565)\n",
      "⚠️  Scene 49: Only found 0 quality frames\n"
     ]
    },
    {
     "name": "stderr",
     "output_type": "stream",
     "text": [
      "Analyzing scenes:  75%|███████▌  | 49/65 [01:19<00:32,  2.05s/scene]"
     ]
    },
    {
     "name": "stdout",
     "output_type": "stream",
     "text": [
      "🔍 Processing Scene 50 (frames 4565-4631)\n",
      "⚠️  Scene 50: Only found 0 quality frames\n"
     ]
    },
    {
     "name": "stderr",
     "output_type": "stream",
     "text": [
      "Analyzing scenes:  77%|███████▋  | 50/65 [01:22<00:35,  2.36s/scene]"
     ]
    },
    {
     "name": "stdout",
     "output_type": "stream",
     "text": [
      "🔍 Processing Scene 51 (frames 4631-4734)\n",
      "⚠️  Scene 51: Only found 0 quality frames\n"
     ]
    },
    {
     "name": "stderr",
     "output_type": "stream",
     "text": [
      "Analyzing scenes:  78%|███████▊  | 51/65 [01:27<00:42,  3.07s/scene]"
     ]
    },
    {
     "name": "stdout",
     "output_type": "stream",
     "text": [
      "🔍 Processing Scene 52 (frames 4734-4846)\n",
      "⚠️  Scene 52: Only found 0 quality frames\n"
     ]
    },
    {
     "name": "stderr",
     "output_type": "stream",
     "text": [
      "Analyzing scenes:  80%|████████  | 52/65 [01:32<00:47,  3.68s/scene]"
     ]
    },
    {
     "name": "stdout",
     "output_type": "stream",
     "text": [
      "🔍 Processing Scene 53 (frames 4846-4906)\n",
      "✅ Scene 53: Found 15 consecutive high-quality frames\n"
     ]
    },
    {
     "name": "stderr",
     "output_type": "stream",
     "text": [
      "Analyzing scenes:  82%|████████▏ | 53/65 [01:33<00:33,  2.80s/scene]"
     ]
    },
    {
     "name": "stdout",
     "output_type": "stream",
     "text": [
      "🔍 Processing Scene 54 (frames 4906-4947)\n",
      "⚠️  Scene 54: Only found 0 quality frames\n"
     ]
    },
    {
     "name": "stderr",
     "output_type": "stream",
     "text": [
      "Analyzing scenes:  83%|████████▎ | 54/65 [01:34<00:27,  2.54s/scene]"
     ]
    },
    {
     "name": "stdout",
     "output_type": "stream",
     "text": [
      "🔍 Processing Scene 55 (frames 4947-5000)\n",
      "⚠️  Scene 55: Only found 0 quality frames\n"
     ]
    },
    {
     "name": "stderr",
     "output_type": "stream",
     "text": [
      "Analyzing scenes:  85%|████████▍ | 55/65 [01:37<00:25,  2.50s/scene]"
     ]
    },
    {
     "name": "stdout",
     "output_type": "stream",
     "text": [
      "🔍 Processing Scene 56 (frames 5000-5034)\n",
      "⚠️  Scene 56: Only found 0 quality frames\n"
     ]
    },
    {
     "name": "stderr",
     "output_type": "stream",
     "text": [
      "Analyzing scenes:  86%|████████▌ | 56/65 [01:38<00:20,  2.23s/scene]"
     ]
    },
    {
     "name": "stdout",
     "output_type": "stream",
     "text": [
      "🔍 Processing Scene 57 (frames 5034-5217)\n",
      "⚠️  Scene 57: Only found 0 quality frames\n"
     ]
    },
    {
     "name": "stderr",
     "output_type": "stream",
     "text": [
      "Analyzing scenes:  88%|████████▊ | 57/65 [01:47<00:32,  4.02s/scene]"
     ]
    },
    {
     "name": "stdout",
     "output_type": "stream",
     "text": [
      "🔍 Processing Scene 58 (frames 5217-5230)\n",
      "⚠️  Scene 58: Only found 0 quality frames\n"
     ]
    },
    {
     "name": "stderr",
     "output_type": "stream",
     "text": [
      "Analyzing scenes:  89%|████████▉ | 58/65 [01:47<00:21,  3.01s/scene]"
     ]
    },
    {
     "name": "stdout",
     "output_type": "stream",
     "text": [
      "🔍 Processing Scene 59 (frames 5230-5243)\n",
      "⚠️  Scene 59: Only found 0 quality frames\n"
     ]
    },
    {
     "name": "stderr",
     "output_type": "stream",
     "text": [
      "Analyzing scenes:  91%|█████████ | 59/65 [01:48<00:13,  2.30s/scene]"
     ]
    },
    {
     "name": "stdout",
     "output_type": "stream",
     "text": [
      "🔍 Processing Scene 60 (frames 5243-5275)\n",
      "⚠️  Scene 60: Only found 0 quality frames\n"
     ]
    },
    {
     "name": "stderr",
     "output_type": "stream",
     "text": [
      "Analyzing scenes:  92%|█████████▏| 60/65 [01:49<00:10,  2.06s/scene]"
     ]
    },
    {
     "name": "stdout",
     "output_type": "stream",
     "text": [
      "🔍 Processing Scene 61 (frames 5275-5290)\n",
      "⚠️  Scene 61: Only found 0 quality frames\n"
     ]
    },
    {
     "name": "stderr",
     "output_type": "stream",
     "text": [
      "Analyzing scenes:  94%|█████████▍| 61/65 [01:50<00:06,  1.66s/scene]"
     ]
    },
    {
     "name": "stdout",
     "output_type": "stream",
     "text": [
      "🔍 Processing Scene 62 (frames 5290-5317)\n",
      "⚠️  Scene 62: Only found 0 quality frames\n"
     ]
    },
    {
     "name": "stderr",
     "output_type": "stream",
     "text": [
      "Analyzing scenes:  95%|█████████▌| 62/65 [01:51<00:04,  1.55s/scene]"
     ]
    },
    {
     "name": "stdout",
     "output_type": "stream",
     "text": [
      "🔍 Processing Scene 63 (frames 5317-5334)\n",
      "⚠️  Scene 63: Only found 0 quality frames\n"
     ]
    },
    {
     "name": "stderr",
     "output_type": "stream",
     "text": [
      "Analyzing scenes:  97%|█████████▋| 63/65 [01:52<00:02,  1.33s/scene]"
     ]
    },
    {
     "name": "stdout",
     "output_type": "stream",
     "text": [
      "🔍 Processing Scene 64 (frames 5334-5347)\n",
      "⚠️  Scene 64: Only found 0 quality frames\n"
     ]
    },
    {
     "name": "stderr",
     "output_type": "stream",
     "text": [
      "Analyzing scenes:  98%|█████████▊| 64/65 [01:53<00:01,  1.12s/scene]"
     ]
    },
    {
     "name": "stdout",
     "output_type": "stream",
     "text": [
      "🔍 Processing Scene 65 (frames 5347-5471)\n"
     ]
    },
    {
     "name": "stderr",
     "output_type": "stream",
     "text": [
      "c:\\Users\\Welcome\\anaconda3\\envs\\qube_cinemas\\lib\\site-packages\\pyiqa\\matlab_utils\\functions.py:173: UserWarning: cov(): degrees of freedom is <= 0. Correction should be strictly less than the number of observations. (Triggered internally at C:\\actions-runner\\_work\\pytorch\\pytorch\\pytorch\\aten\\src\\ATen\\native\\Correlation.cpp:116.)\n",
      "  return torch.cov(tensor, correction=correction)\n",
      "c:\\Users\\Welcome\\anaconda3\\envs\\qube_cinemas\\lib\\site-packages\\pyiqa\\archs\\niqe_arch.py:161: UserWarning: torch.linalg.svd: During SVD computation with the selected cusolver driver, batches 0 failed to converge. A more accurate method will be used to compute the SVD as a fallback. Check doc at https://pytorch.org/docs/stable/generated/torch.linalg.svd.html (Triggered internally at C:\\actions-runner\\_work\\pytorch\\pytorch\\pytorch\\aten\\src\\ATen\\native\\cuda\\linalg\\BatchLinearAlgebraLib.cpp:696.)\n",
      "  invcov_param = torch.linalg.pinv((cov_pris_param + cov_distparam) / 2)\n"
     ]
    },
    {
     "name": "stdout",
     "output_type": "stream",
     "text": [
      "⚠️  Scene 65: Only found 0 quality frames\n"
     ]
    },
    {
     "name": "stderr",
     "output_type": "stream",
     "text": [
      "Analyzing scenes: 100%|██████████| 65/65 [01:54<00:00,  1.08s/scene]██████████| 65/65 [01:54<00:00,  1.76s/scene]\n"
     ]
    },
    {
     "name": "stdout",
     "output_type": "stream",
     "text": [
      "\n",
      "💾 STEP 4: Saving analysis results\n",
      "💾 Preparing analysis data for export...\n",
      "📄 Analysis data saved to: analysis_results\\Beast_analysis.json\n",
      "\n",
      "================================================================================\n",
      "🎉 PIPELINE COMPLETED SUCCESSFULLY!\n",
      "📊 Results: Found quality sequences in 33/65 scenes\n",
      "================================================================================\n"
     ]
    }
   ],
   "source": [
    "import av\n",
    "import cv2\n",
    "import os\n",
    "import torch\n",
    "import pyiqa\n",
    "import numpy as np\n",
    "import json\n",
    "from collections import deque\n",
    "from tqdm import tqdm\n",
    "from scenedetect import open_video, SceneManager\n",
    "from scenedetect.detectors import AdaptiveDetector\n",
    "from colorama import Fore, Style, init\n",
    "\n",
    "# Initialize colorama for colored output\n",
    "init(autoreset=True)\n",
    "\n",
    "def print_video_info(file_path, container, video_stream, frame_rate, total_frames):\n",
    "    \"\"\"Display video file information and metadata\"\"\"\n",
    "    print(f\"{Fore.CYAN}{'='*60}\")\n",
    "    print(f\"{Fore.CYAN}VIDEO INFORMATION\")\n",
    "    print(f\"{Fore.CYAN}{'='*60}\")\n",
    "    print(f\"{Fore.WHITE}File: {Fore.YELLOW}{os.path.basename(file_path)}\")\n",
    "    print(f\"{Fore.WHITE}Format: {Fore.GREEN}{container.format.name}\")\n",
    "    print(f\"{Fore.WHITE}Duration: {Fore.GREEN}{container.duration / av.time_base:.2f} seconds\")\n",
    "    print(f\"{Fore.WHITE}Codec: {Fore.GREEN}{video_stream.codec.name}\")\n",
    "    print(f\"{Fore.WHITE}Resolution: {Fore.GREEN}{video_stream.width}x{video_stream.height}\")\n",
    "    print(f\"{Fore.WHITE}Frame Rate: {Fore.GREEN}{frame_rate} fps\")\n",
    "    print(f\"{Fore.WHITE}Pixel Format: {Fore.GREEN}{video_stream.pix_fmt}\")\n",
    "    print(f\"{Fore.WHITE}Bitrate: {Fore.GREEN}{container.bit_rate} bps\")\n",
    "    print(f\"{Fore.WHITE}Total Frames: {Fore.GREEN}{total_frames}\")\n",
    "    print(f\"{Fore.CYAN}{'='*60}{Style.RESET_ALL}\")\n",
    "\n",
    "def convert_frame_to_720p(frame):\n",
    "    \"\"\"Convert frame to 720p resolution at 8-bit depth\"\"\"\n",
    "    frame_720p = frame.reformat(width=1280, height=720, format='yuv420p')\n",
    "    return frame_720p.to_ndarray()\n",
    "\n",
    "def read_mxf_video(file_path):\n",
    "    \"\"\"Read MXF video file and convert frames to 720p\"\"\"\n",
    "    print(f\"{Fore.MAGENTA}🎬 Opening MXF video file...\")\n",
    "    \n",
    "    # Open video containers\n",
    "    container = av.open(file_path)\n",
    "    video_stream = container.streams.video[0]\n",
    "    \n",
    "    # Get accurate frame info using OpenCV\n",
    "    cap = cv2.VideoCapture(file_path)\n",
    "    frame_rate = cap.get(cv2.CAP_PROP_FPS)\n",
    "    total_frames = int(cap.get(cv2.CAP_PROP_FRAME_COUNT))\n",
    "    cap.release()\n",
    "    \n",
    "    print_video_info(file_path, container, video_stream, frame_rate, total_frames)\n",
    "    \n",
    "    # Prepare video metadata\n",
    "    video_info = {\n",
    "        'file_path': file_path,\n",
    "        'format': container.format.name,\n",
    "        'codec': video_stream.codec.name,\n",
    "        'original_resolution': f\"{video_stream.width}x{video_stream.height}\",\n",
    "        'frame_rate': frame_rate,\n",
    "        'pixel_format': video_stream.pix_fmt,\n",
    "        'bitrate': container.bit_rate,\n",
    "        'total_frames': total_frames\n",
    "    }\n",
    "    \n",
    "    print(f\"{Fore.BLUE}🔄 Converting frames to 720p...\")\n",
    "    frame_count = 0\n",
    "    frames_720p = []\n",
    "    \n",
    "    # Process each frame with progress tracking\n",
    "    with tqdm(total=total_frames, desc=\"Processing frames\", unit=\"frame\", colour=\"blue\") as pbar:\n",
    "        for frame in container.decode(video_stream):\n",
    "            frame_count += 1\n",
    "            converted_frame = convert_frame_to_720p(frame)\n",
    "            frames_720p.append(converted_frame)\n",
    "            pbar.update(1)\n",
    "    \n",
    "    container.close()\n",
    "    print(f\"{Fore.GREEN}✅ Successfully processed {frame_count} frames and converted to 720p\")\n",
    "    return frames_720p, video_info\n",
    "\n",
    "def find_and_split_scenes(video_path, frame_rate):\n",
    "    \"\"\"Detect scenes in video using adaptive threshold\"\"\"\n",
    "    print(f\"{Fore.MAGENTA}🎯 Starting scene detection...\")\n",
    "    \n",
    "    # Initialize scene detection\n",
    "    video = open_video(video_path)\n",
    "    scene_manager = SceneManager()\n",
    "    scene_manager.add_detector(AdaptiveDetector(adaptive_threshold=3.0))\n",
    "    \n",
    "    print(f\"{Fore.BLUE}🔍 Analyzing video for scene changes...\")\n",
    "    scene_manager.detect_scenes(video=video, show_progress=True)\n",
    "    \n",
    "    # Process detected scenes\n",
    "    scene_list = scene_manager.get_scene_list()\n",
    "    print(f\"{Fore.GREEN}📊 Found {Fore.YELLOW}{len(scene_list)}{Fore.GREEN} scenes\")\n",
    "    \n",
    "    scenes_info = []\n",
    "    if scene_list:\n",
    "        for i, (start_time, end_time) in enumerate(scene_list):\n",
    "            start_frame = int(start_time.get_seconds() * frame_rate)\n",
    "            end_frame = int(end_time.get_seconds() * frame_rate)\n",
    "            scenes_info.append({\n",
    "                'scene_id': i + 1,\n",
    "                'start_time_seconds': round(start_time.get_seconds(), 2),\n",
    "                'end_time_seconds': round(end_time.get_seconds(), 2),\n",
    "                'start_frame': start_frame,\n",
    "                'end_frame': end_frame,\n",
    "                'frame_count': end_frame - start_frame + 1\n",
    "            })\n",
    "            print(f\"{Fore.CYAN}  Scene {i+1}: Frames {start_frame}-{end_frame} ({end_frame-start_frame+1} frames)\")\n",
    "    else:\n",
    "        print(f\"{Fore.RED}⚠️  No scenes detected\")\n",
    "    \n",
    "    return scenes_info\n",
    "\n",
    "def find_sequence_per_scene(frames_list, scenes_info, base_video_name, musiq_metric, niqe_metric, device, sequence_length=15, musiq_threshold=35.0, niqe_threshold=6.0):\n",
    "    \"\"\"Find high-quality frame sequences in each detected scene\"\"\"\n",
    "    scene_results = []\n",
    "    \n",
    "    print(f\"{Fore.MAGENTA}🎨 Starting quality analysis per scene...\")\n",
    "    print(f\"{Fore.CYAN}   Thresholds: MUSIQ > {musiq_threshold}, NIQE < {niqe_threshold}\")\n",
    "    print(f\"{Fore.CYAN}   Target sequence length: {sequence_length} frames\")\n",
    "    \n",
    "    # Process each scene individually\n",
    "    for scene in tqdm(scenes_info, desc=\"Analyzing scenes\", unit=\"scene\", colour=\"magenta\"):\n",
    "        scene_id = scene['scene_id']\n",
    "        start_frame = scene['start_frame']\n",
    "        end_frame = scene['end_frame']\n",
    "        \n",
    "        print(f\"{Fore.BLUE}🔍 Processing Scene {scene_id} (frames {start_frame}-{end_frame})\")\n",
    "        \n",
    "        frame_buffer = deque(maxlen=sequence_length)\n",
    "        selected_frames = []\n",
    "        \n",
    "        # Analyze frames within current scene\n",
    "        for frame_idx in range(start_frame - 1, min(end_frame, len(frames_list))):\n",
    "            frame_array = frames_list[frame_idx]\n",
    "            frame_number = frame_idx + 1\n",
    "            \n",
    "            # Skip low-variance frames (likely blank/black)\n",
    "            if np.std(frame_array) < 10.0:\n",
    "                frame_buffer.clear()\n",
    "                continue\n",
    "            \n",
    "            # Convert frame for quality analysis\n",
    "            frame_bgr = cv2.cvtColor(frame_array, cv2.COLOR_YUV2BGR_I420)\n",
    "            frame_rgb = cv2.cvtColor(frame_bgr, cv2.COLOR_BGR2RGB)\n",
    "            frame_tensor = torch.tensor(frame_rgb).permute(2, 0, 1).unsqueeze(0) / 255.0\n",
    "            frame_tensor = frame_tensor.to(device)\n",
    "            \n",
    "            # Calculate quality metrics with error handling for NIQE\n",
    "            with torch.no_grad():\n",
    "                musiq_score = musiq_metric(frame_tensor).item()\n",
    "                \n",
    "                # Try NIQE calculation, skip frame if it fails\n",
    "                try:\n",
    "                    niqe_score = niqe_metric(frame_tensor).item()\n",
    "                except:\n",
    "                    # Skip this frame if NIQE calculation fails\n",
    "                    frame_buffer.clear()\n",
    "                    continue\n",
    "            \n",
    "            # Check if frame meets quality thresholds\n",
    "            is_good_quality = (musiq_score >= musiq_threshold) and (niqe_score <= niqe_threshold)\n",
    "            \n",
    "            if is_good_quality:\n",
    "                frame_buffer.append(frame_number)\n",
    "            else:\n",
    "                frame_buffer.clear()\n",
    "            \n",
    "            # Check if we found a complete sequence\n",
    "            if len(frame_buffer) == sequence_length:\n",
    "                selected_frames = list(frame_buffer)\n",
    "                break\n",
    "        \n",
    "        # Store results for current scene\n",
    "        success = len(selected_frames) == sequence_length\n",
    "        scene_result = {\n",
    "            'scene_id': scene_id,\n",
    "            'sequence_found': success,\n",
    "            'selected_frames': selected_frames,\n",
    "            'total_frames_selected': len(selected_frames)\n",
    "        }\n",
    "        \n",
    "        if success:\n",
    "            print(f\"{Fore.GREEN}✅ Scene {scene_id}: Found {sequence_length} consecutive high-quality frames\")\n",
    "        else:\n",
    "            print(f\"{Fore.YELLOW}⚠️  Scene {scene_id}: Only found {len(selected_frames)} quality frames\")\n",
    "        \n",
    "        scene_results.append(scene_result)\n",
    "    \n",
    "    return scene_results\n",
    "\n",
    "def save_analysis_json(video_info, scenes_info, scene_results, output_path):\n",
    "    \"\"\"Save complete analysis results to JSON file\"\"\"\n",
    "    print(f\"{Fore.MAGENTA}💾 Preparing analysis data for export...\")\n",
    "    \n",
    "    # Add frame selection info to each scene\n",
    "    for scene in scenes_info:\n",
    "        scene_id = scene['scene_id']\n",
    "        scene_result = next((sr for sr in scene_results if sr['scene_id'] == scene_id), None)\n",
    "        \n",
    "        if scene_result:\n",
    "            scene['frames_selected'] = scene_result['sequence_found']\n",
    "            if scene_result['sequence_found']:\n",
    "                scene['selected_frame_range'] = {\n",
    "                    'start_frame': scene_result['selected_frames'][0],\n",
    "                    'end_frame': scene_result['selected_frames'][-1],\n",
    "                    'total_selected': len(scene_result['selected_frames'])\n",
    "                }\n",
    "            else:\n",
    "                scene['selected_frame_range'] = None\n",
    "        else:\n",
    "            scene['frames_selected'] = False\n",
    "            scene['selected_frame_range'] = None\n",
    "    \n",
    "    # Calculate summary statistics\n",
    "    total_sequences_found = sum(1 for sr in scene_results if sr['sequence_found'])\n",
    "    total_frames_selected = sum(sr['total_frames_selected'] for sr in scene_results)\n",
    "    \n",
    "    # Prepare final analysis data\n",
    "    analysis_data = {\n",
    "        'video_information': video_info,\n",
    "        'scene_detection': {\n",
    "            'total_scenes_detected': len(scenes_info),\n",
    "            'scenes': scenes_info\n",
    "        },\n",
    "        'quality_analysis': {\n",
    "            'total_scenes_with_sequences': total_sequences_found,\n",
    "            'total_frames_selected': total_frames_selected,\n",
    "            'scene_results': scene_results\n",
    "        }\n",
    "    }\n",
    "    \n",
    "    # Save to JSON file\n",
    "    os.makedirs(os.path.dirname(output_path), exist_ok=True)\n",
    "    with open(output_path, 'w') as f:\n",
    "        json.dump(analysis_data, f, indent=2)\n",
    "    \n",
    "    print(f\"{Fore.GREEN}📄 Analysis data saved to: {Fore.YELLOW}{output_path}\")\n",
    "    return analysis_data\n",
    "\n",
    "def process_mxf_complete_pipeline(mxf_file_path, output_folder):\n",
    "    \"\"\"Complete MXF analysis pipeline: read video, detect scenes, analyze frame quality\"\"\"\n",
    "    \n",
    "    print(f\"{Fore.MAGENTA}{'='*80}\")\n",
    "    print(f\"{Fore.MAGENTA}🚀 STARTING MXF VIDEO ANALYSIS PIPELINE\")\n",
    "    print(f\"{Fore.MAGENTA}{'='*80}{Style.RESET_ALL}\")\n",
    "    \n",
    "    # Step 1: Read and convert MXF video\n",
    "    print(f\"\\n{Fore.CYAN}📖 STEP 1: Reading MXF file and converting frames\")\n",
    "    frames_list, video_info = read_mxf_video(mxf_file_path)\n",
    "    \n",
    "    # Step 2: Detect video scenes\n",
    "    print(f\"\\n{Fore.CYAN}🎬 STEP 2: Scene detection\")\n",
    "    scenes_info = find_and_split_scenes(mxf_file_path, video_info['frame_rate'])\n",
    "    \n",
    "    # Step 3: Initialize quality analysis models\n",
    "    print(f\"\\n{Fore.CYAN}🤖 STEP 3: Quality-based frame analysis per scene\")\n",
    "    device = torch.device(\"cuda\" if torch.cuda.is_available() else \"cpu\")\n",
    "    print(f\"{Fore.BLUE}🔧 Initializing IQA models on device: {Fore.GREEN}{device}\")\n",
    "    \n",
    "    musiq_metric = pyiqa.create_metric('musiq', device=device)\n",
    "    niqe_metric = pyiqa.create_metric('niqe', device=device)\n",
    "    print(f\"{Fore.GREEN}✅ MUSIQ and NIQE models loaded successfully\")\n",
    "    \n",
    "    # Step 4: Analyze frame quality per scene\n",
    "    base_video_name = os.path.basename(mxf_file_path).split('.')[0]\n",
    "    scene_results = find_sequence_per_scene(\n",
    "        frames_list, \n",
    "        scenes_info,\n",
    "        base_video_name,\n",
    "        musiq_metric, \n",
    "        niqe_metric, \n",
    "        device\n",
    "    )\n",
    "    \n",
    "    # Step 5: Save results\n",
    "    print(f\"\\n{Fore.CYAN}💾 STEP 4: Saving analysis results\")\n",
    "    json_output_path = os.path.join(output_folder, f\"{base_video_name}_analysis.json\")\n",
    "    analysis_data = save_analysis_json(video_info, scenes_info, scene_results, json_output_path)\n",
    "    \n",
    "    # Final summary\n",
    "    sequences_found = sum(1 for sr in scene_results if sr['sequence_found'])\n",
    "    total_scenes = len(scenes_info)\n",
    "    \n",
    "    print(f\"\\n{Fore.GREEN}{'='*80}\")\n",
    "    print(f\"{Fore.GREEN}🎉 PIPELINE COMPLETED SUCCESSFULLY!\")\n",
    "    print(f\"{Fore.GREEN}📊 Results: Found quality sequences in {Fore.YELLOW}{sequences_found}/{total_scenes}{Fore.GREEN} scenes\")\n",
    "    print(f\"{Fore.GREEN}{'='*80}{Style.RESET_ALL}\")\n",
    "    \n",
    "    return analysis_data\n",
    "\n",
    "if __name__ == \"__main__\":\n",
    "    mxf_file = r\"movie\\Beast.mkv\"\n",
    "    output_folder = r\"analysis_results\"\n",
    "    \n",
    "    analysis_data = process_mxf_complete_pipeline(mxf_file, output_folder)"
   ]
  }
 ],
 "metadata": {
  "kernelspec": {
   "display_name": "qube_cinemas",
   "language": "python",
   "name": "python3"
  },
  "language_info": {
   "codemirror_mode": {
    "name": "ipython",
    "version": 3
   },
   "file_extension": ".py",
   "mimetype": "text/x-python",
   "name": "python",
   "nbconvert_exporter": "python",
   "pygments_lexer": "ipython3",
   "version": "3.9.23"
  }
 },
 "nbformat": 4,
 "nbformat_minor": 5
}
